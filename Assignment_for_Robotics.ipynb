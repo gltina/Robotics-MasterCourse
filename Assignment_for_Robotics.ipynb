{
  "nbformat": 4,
  "nbformat_minor": 0,
  "metadata": {
    "colab": {
      "provenance": [],
      "collapsed_sections": [
        "anImyMcyknYq",
        "63Q72W7s3Blx"
      ],
      "toc_visible": true,
      "authorship_tag": "ABX9TyMYDfclUSUmeId1c88nC9mx",
      "include_colab_link": true
    },
    "kernelspec": {
      "name": "python3",
      "display_name": "Python 3"
    },
    "language_info": {
      "name": "python"
    }
  },
  "cells": [
    {
      "cell_type": "markdown",
      "metadata": {
        "id": "view-in-github",
        "colab_type": "text"
      },
      "source": [
        "<a href=\"https://colab.research.google.com/github/leihui6/Robotics-MasterCourse/blob/main/Assignment_for_Robotics.ipynb\" target=\"_parent\"><img src=\"https://colab.research.google.com/assets/colab-badge.svg\" alt=\"Open In Colab\"/></a>"
      ]
    },
    {
      "cell_type": "markdown",
      "source": [
        "# Global Setting of Assignment"
      ],
      "metadata": {
        "id": "DOnGmo43k6nQ"
      }
    },
    {
      "cell_type": "code",
      "source": [
        "import numpy as np\n",
        "from math import sqrt\n",
        "#from numpy.linalg import inv, norm\n",
        "np.set_printoptions(precision=4)\n",
        "np.set_printoptions(suppress=True)\n",
        "\n",
        "def bmatrix(a):\n",
        "    \"\"\"Returns a LaTeX bmatrix\n",
        "\n",
        "    :a: numpy array\n",
        "    :returns: LaTeX bmatrix as a string\n",
        "    \"\"\"\n",
        "    if len(a.shape) > 2:\n",
        "        raise ValueError('bmatrix can at most display two dimensions')\n",
        "    lines = str(a).replace('[', '').replace(']', '').splitlines()\n",
        "    rv = [r'\\begin{bmatrix}']\n",
        "    rv += ['  ' + ' & '.join(l.split()) + r'\\\\' for l in lines]\n",
        "    rv +=  [r'\\end{bmatrix}']\n",
        "    return '\\n'.join(rv)\n",
        "\n",
        "# The transformation from @F1 to @F2\n",
        "def calculate_R_transformation(F1,F2):\n",
        "    assert len(F1) == 3 and len(F2) == 3\n",
        "    T = np.zeros((3,3))\n",
        "    for F1_index,F1_item in enumerate(F1):\n",
        "        for F2_index,F2_item in enumerate(F2):\n",
        "            T[F2_index, F1_index] = np.dot(F1_item,F2_item.transpose())\n",
        "    return T\n",
        "\n",
        "# Combine rotation and translation transfomation\n",
        "def add_T_transformation(R_T,T_T):\n",
        "    assert R_T.shape == (3,3) and T_T.shape == (3,1), \\\n",
        "    f\"{R_T.shape} and {T_T.shape}\"\n",
        "    final_T = np.identity(4)\n",
        "    final_T[0:3,0:3] = R_T\n",
        "    final_T[0:3,3:4] = T_T\n",
        "    return final_T\n",
        "\n",
        "def inv_T(T):\n",
        "    assert T.shape == (4,4)\n",
        "    inv_RT = np.transpose(T[0:3,0:3])\n",
        "    inv_TT = -np.dot(inv_RT, T[0:3,3:4])\n",
        "    inv_T = np.identity(4)\n",
        "    inv_T[0:3,0:3] = inv_RT\n",
        "    inv_T[0:3,3:4] = inv_TT\n",
        "    return inv_T\n"
      ],
      "metadata": {
        "id": "eJpKKRF0lBe7"
      },
      "execution_count": 43,
      "outputs": []
    },
    {
      "cell_type": "code",
      "source": [
        "#Test the robotic transformation ref:https://blog.csdn.net/chengde6896383/article/details/86738179\n",
        "#T1 = np.array([[0.5, 0,0.866,3],[0.866,0,-0.5,2],[0.0,1,0,5],[0.0,0,0,1]]).reshape(4,4)\n",
        "#print(T1)\n",
        "#print(inv_T(T1))"
      ],
      "metadata": {
        "colab": {
          "base_uri": "https://localhost:8080/"
        },
        "id": "eEVkJ1cBuz2G",
        "outputId": "12a167ee-8276-49a1-e9c6-ad167a8fa318"
      },
      "execution_count": 17,
      "outputs": [
        {
          "output_type": "stream",
          "name": "stdout",
          "text": [
            "[[ 0.5    0.     0.866  3.   ]\n",
            " [ 0.866  0.    -0.5    2.   ]\n",
            " [ 0.     1.     0.     5.   ]\n",
            " [ 0.     0.     0.     1.   ]]\n",
            "[[ 0.5    0.866  0.    -3.232]\n",
            " [ 0.     0.     1.    -5.   ]\n",
            " [ 0.866 -0.5    0.    -1.598]\n",
            " [ 0.     0.     0.     1.   ]]\n"
          ]
        }
      ]
    },
    {
      "cell_type": "markdown",
      "source": [
        "# Assignment 1"
      ],
      "metadata": {
        "id": "anImyMcyknYq"
      }
    },
    {
      "cell_type": "code",
      "source": [
        "#Transformation from A to U: T1\n",
        "#Transformation from A to B: T2\n",
        "#Transformation from U to C: T3\n",
        "#\n",
        "T1 = np.array([[0.866, -0.5,0.0,11.0],[0.5,0.866,0.0,-1.0],[0.0,0.0,1.0,8.0],[0.0,0,0,1]])\n",
        "T2 = np.array([[1.0,0.0,0.0,0.0],[0.0,0.866,-0.5,10.0],[0,0.5,0.866,-20.0],[0,0,0,1]])\n",
        "T3 = np.array([[0.866,-0.5,0.0,-3.0],[0.433,0.750,-0.5,-3.0],[0.250,0.433,0.866,3.0],[0,0,0,1]])\n",
        "\n",
        "print(\"T1= \\n\", T1, T1.shape)\n",
        "print(\"T2= \\n\", T2, T2.shape)\n",
        "print(\"T3= \\n\", T3, T3.shape)\n",
        "print(\"####\")\n",
        "\n",
        "print(\"(T3·T1·T2^-1)^(-1) = \")\n",
        "print(inv_T(np.dot(T3,np.dot(T1,inv_T(T2)))))\n",
        "print(\"T2·T1^-1·T3^-1 = \")\n",
        "print(np.dot(T2,np.dot(inv_T(T1),inv_T(T3))))"
      ],
      "metadata": {
        "colab": {
          "base_uri": "https://localhost:8080/"
        },
        "id": "b-wJUAtVkudV",
        "outputId": "f23b0b97-7d0d-4d09-a974-caa5a2f26ecf"
      },
      "execution_count": 8,
      "outputs": [
        {
          "output_type": "stream",
          "name": "stdout",
          "text": [
            "T1= \n",
            " [[ 0.866 -0.5    0.    11.   ]\n",
            " [ 0.5    0.866  0.    -1.   ]\n",
            " [ 0.     0.     1.     8.   ]\n",
            " [ 0.     0.     0.     1.   ]] (4, 4)\n",
            "T2= \n",
            " [[  1.      0.      0.      0.   ]\n",
            " [  0.      0.866  -0.5    10.   ]\n",
            " [  0.      0.5     0.866 -20.   ]\n",
            " [  0.      0.      0.      1.   ]] (4, 4)\n",
            "T3= \n",
            " [[ 0.866 -0.5    0.    -3.   ]\n",
            " [ 0.433  0.75  -0.5   -3.   ]\n",
            " [ 0.25   0.433  0.866  3.   ]\n",
            " [ 0.     0.     0.     1.   ]] (4, 4)\n",
            "####\n",
            "(T3·T1·T2^-1)^(-1) = \n",
            "[[  0.5      0.75     0.433   -6.5744]\n",
            " [ -0.75     0.625   -0.2165  19.7868]\n",
            " [ -0.433   -0.2165   0.8749 -28.3161]\n",
            " [  0.       0.       0.       1.    ]]\n",
            "T2·T1^-1·T3^-1 = \n",
            "[[  0.5      0.75     0.433   -6.5752]\n",
            " [ -0.75     0.625   -0.2165  19.7876]\n",
            " [ -0.433   -0.2165   0.8749 -28.3183]\n",
            " [  0.       0.       0.       1.    ]]\n"
          ]
        }
      ]
    },
    {
      "cell_type": "markdown",
      "source": [
        "# Assignment 2"
      ],
      "metadata": {
        "id": "VJnUI_HUxfC1"
      }
    },
    {
      "cell_type": "markdown",
      "source": [
        "## Answer for Problem1"
      ],
      "metadata": {
        "id": "-65qMc9txWhF"
      }
    },
    {
      "cell_type": "code",
      "source": [
        "A_X,A_Y,A_Z = np.array([1,0,0]), np.array([0,1,0]), np.array([0,0,1])\n",
        "B_X,B_Y,B_Z = np.array([-1,0,0]), np.array([0,-1,0]), np.array([0,0,1])\n",
        "C_X, C_Y = np.array([0, 0, -1]), \\\n",
        "    np.array([-np.cos(np.deg2rad(60)),np.sin(np.deg2rad(60)),0])\n",
        "C_Z = np.cross(C_X, C_Y)\n",
        "\n",
        "# Obtain each of coordinate system\n",
        "A = [A_X,A_Y,A_Z]\n",
        "B = [B_X,B_Y,B_Z]\n",
        "C = [C_X,C_Y,C_Z]\n",
        "\n",
        "# Calculate Rotation and Translation matrix\n",
        "RT_B2A,TT_B2A = calculate_R_transformation(B,A), np.array([3,0,0]).reshape(3,1)\n",
        "RT_C2B,TT_C2B = calculate_R_transformation(C,B), np.array([0,0,2]).reshape(3,1)\n",
        "\n",
        "final_T_B2A = add_T_transformation(RT_B2A,TT_B2A)\n",
        "final_T_C2B = add_T_transformation(RT_C2B,TT_C2B)\n",
        "print(f\"{final_T_B2A}\\n{final_T_C2B}\")\n",
        "#print(f\"Here is the Latex version:\\n{bmatrix(final_T_A2B)}\\n{bmatrix(final_T_B2C)}\")"
      ],
      "metadata": {
        "colab": {
          "base_uri": "https://localhost:8080/"
        },
        "id": "NVjVvA7ikVHN",
        "outputId": "fe128d48-7eec-4df0-84d4-6bcdfc10115a"
      },
      "execution_count": 35,
      "outputs": [
        {
          "output_type": "stream",
          "name": "stdout",
          "text": [
            "[[-1.  0.  0.  3.]\n",
            " [ 0. -1.  0.  0.]\n",
            " [ 0.  0.  1.  0.]\n",
            " [ 0.  0.  0.  1.]]\n",
            "[[ 0.     0.5   -0.866  0.   ]\n",
            " [ 0.    -0.866 -0.5    0.   ]\n",
            " [-1.     0.     0.     2.   ]\n",
            " [ 0.     0.     0.     1.   ]]\n"
          ]
        }
      ]
    },
    {
      "cell_type": "code",
      "source": [
        "#T_test = np.array([[0, 0.5,-0.866,0],[0,-0.866,-0.5,0],[-1,0,0,2],[0.0,0,0,1]]).reshape(4,4)\n",
        "#print (inv_T(T_test))"
      ],
      "metadata": {
        "id": "OHKQc4qU3VCB"
      },
      "execution_count": 29,
      "outputs": []
    },
    {
      "cell_type": "code",
      "source": [
        "final_T_C2A = np.dot(final_T_B2A, final_T_C2B)\n",
        "final_T_A2C = inv_T(final_T_C2A)"
      ],
      "metadata": {
        "id": "w4_gcPfPoCK0"
      },
      "execution_count": 36,
      "outputs": []
    },
    {
      "cell_type": "code",
      "source": [
        "print (f\"2.27: The transformation from B to A:\\n{final_T_B2A}\")#\\nfor Latex format Version\\n{bmatrix(final_T_B2A)}\")\n",
        "print (f\"2.28: The transformation from C to A:\\n{final_T_C2A}\")#\\nfor Latex format Version\\n{bmatrix(final_T_C2A)}\")\n",
        "print (f\"2.29: The transformation from C to B:\\n{final_T_C2B}\")#\\nfor Latex format Version\\n{bmatrix(final_T_C2B)}\")\n",
        "print (f\"2.30: The transformation from A to C:\\n{final_T_A2C}\")#\\nfor Latex format Version\\n{bmatrix(final_T_A2C)}\")"
      ],
      "metadata": {
        "colab": {
          "base_uri": "https://localhost:8080/"
        },
        "id": "g1SVFUvPoOqy",
        "outputId": "f88434c9-d9cb-4703-d0bd-e27fa9388056"
      },
      "execution_count": 37,
      "outputs": [
        {
          "output_type": "stream",
          "name": "stdout",
          "text": [
            "2.27: The transformation from B to A:\n",
            "[[-1.  0.  0.  3.]\n",
            " [ 0. -1.  0.  0.]\n",
            " [ 0.  0.  1.  0.]\n",
            " [ 0.  0.  0.  1.]]\n",
            "2.28: The transformation from C to A:\n",
            "[[ 0.    -0.5    0.866  3.   ]\n",
            " [ 0.     0.866  0.5    0.   ]\n",
            " [-1.     0.     0.     2.   ]\n",
            " [ 0.     0.     0.     1.   ]]\n",
            "2.29: The transformation from C to B:\n",
            "[[ 0.     0.5   -0.866  0.   ]\n",
            " [ 0.    -0.866 -0.5    0.   ]\n",
            " [-1.     0.     0.     2.   ]\n",
            " [ 0.     0.     0.     1.   ]]\n",
            "2.30: The transformation from A to C:\n",
            "[[ 0.      0.     -1.      2.    ]\n",
            " [-0.5     0.866   0.      1.5   ]\n",
            " [ 0.866   0.5     0.     -2.5981]\n",
            " [ 0.      0.      0.      1.    ]]\n"
          ]
        }
      ]
    },
    {
      "cell_type": "markdown",
      "source": [
        "## Answer for Problem2"
      ],
      "metadata": {
        "id": "612MQ5gnxi7z"
      }
    },
    {
      "cell_type": "code",
      "source": [
        "A_X,A_Y,A_Z = np.array([1,0,0]), np.array([0,1,0]), np.array([0,0,1])\n",
        "B_X,B_Y,B_Z = np.array([-1,0,0]), np.array([0,0,-1]), np.array([0,-1,0])\n",
        "angle = 90 - 36.9\n",
        "C_Y,C_Z = np.array([np.cos(np.deg2rad(angle)), -np.sin(np.deg2rad(angle)), 0]), \\\n",
        "np.array([0,0,-1])\n",
        "C_X = np.cross(C_Y,C_Z)\n",
        "\n",
        "A = [A_X,A_Y,A_Z]\n",
        "B = [B_X,B_Y,B_Z]\n",
        "C = [C_X,C_Y,C_Z]\n",
        "\n",
        "RT_B2A,TT_B2A = calculate_R_transformation(B,A), np.array([0,4,2]).reshape(3,1)\n",
        "RT_C2B,TT_C2B = calculate_R_transformation(C,B), np.array([3,0,0]).reshape(3,1)\n",
        "final_T_B2A = add_T_transformation(RT_B2A,TT_B2A)\n",
        "final_T_C2B = add_T_transformation(RT_C2B,TT_C2B)\n",
        "print(f\"{final_T_B2A}\\n{final_T_C2B}\")\n",
        "# print(f\"Here is the Latex version:\\n{bmatrix(final_T_B2A)}\\n{bmatrix(final_T_C2B)}\")"
      ],
      "metadata": {
        "colab": {
          "base_uri": "https://localhost:8080/"
        },
        "id": "kNjhqD49cQ9R",
        "outputId": "dc1597d8-b8df-4dcd-f645-044803548df7"
      },
      "execution_count": 45,
      "outputs": [
        {
          "output_type": "stream",
          "name": "stdout",
          "text": [
            "[[-1.  0.  0.  0.]\n",
            " [ 0.  0. -1.  4.]\n",
            " [ 0. -1.  0.  2.]\n",
            " [ 0.  0.  0.  1.]]\n",
            "[[-0.7997 -0.6004  0.      3.    ]\n",
            " [ 0.      0.      1.      0.    ]\n",
            " [-0.6004  0.7997  0.      0.    ]\n",
            " [ 0.      0.      0.      1.    ]]\n"
          ]
        }
      ]
    },
    {
      "cell_type": "code",
      "source": [
        "final_T_C2A = np.dot(final_T_B2A, final_T_C2B)\n",
        "final_T_A2C = inv_T(final_T_C2A)"
      ],
      "metadata": {
        "id": "MRNuEYPwj09f"
      },
      "execution_count": 46,
      "outputs": []
    },
    {
      "cell_type": "code",
      "source": [
        "print (f\"2.31: The transformation from B to A:\\n{final_T_B2A}\")#\\nfor Latex format Version\\n{bmatrix(final_T_B2A)}\")\n",
        "print (f\"2.32: The transformation from C to A:\\n{final_T_C2A}\")#\\nfor Latex format Version\\n{bmatrix(final_T_C2A)}\")\n",
        "print (f\"2.33: The transformation from C to B:\\n{final_T_C2B}\")#\\nfor Latex format Version\\n{bmatrix(final_T_C2B)}\")\n",
        "print (f\"2.34: The transformation from A to C:\\n{final_T_A2C}\")#\\nfor Latex format Version\\n{bmatrix(final_T_A2C)}\")"
      ],
      "metadata": {
        "colab": {
          "base_uri": "https://localhost:8080/"
        },
        "id": "5HvBdGJ3ktGl",
        "outputId": "c335d2fe-f469-45d2-ac86-1dca1fbcd8eb"
      },
      "execution_count": 47,
      "outputs": [
        {
          "output_type": "stream",
          "name": "stdout",
          "text": [
            "2.31: The transformation from B to A:\n",
            "[[-1.  0.  0.  0.]\n",
            " [ 0.  0. -1.  4.]\n",
            " [ 0. -1.  0.  2.]\n",
            " [ 0.  0.  0.  1.]]\n",
            "2.32: The transformation from C to A:\n",
            "[[ 0.7997  0.6004  0.     -3.    ]\n",
            " [ 0.6004 -0.7997  0.      4.    ]\n",
            " [ 0.      0.     -1.      2.    ]\n",
            " [ 0.      0.      0.      1.    ]]\n",
            "2.33: The transformation from C to B:\n",
            "[[-0.7997 -0.6004  0.      3.    ]\n",
            " [ 0.      0.      1.      0.    ]\n",
            " [-0.6004  0.7997  0.      0.    ]\n",
            " [ 0.      0.      0.      1.    ]]\n",
            "2.34: The transformation from A to C:\n",
            "[[ 0.7997  0.6004  0.     -0.0026]\n",
            " [ 0.6004 -0.7997  0.      5.    ]\n",
            " [ 0.      0.     -1.      2.    ]\n",
            " [ 0.      0.      0.      1.    ]]\n"
          ]
        }
      ]
    },
    {
      "cell_type": "markdown",
      "source": [
        "# Assignment 3"
      ],
      "metadata": {
        "id": "63Q72W7s3Blx"
      }
    },
    {
      "cell_type": "code",
      "source": [],
      "metadata": {
        "id": "VzmH_E9N3Fau"
      },
      "execution_count": null,
      "outputs": []
    }
  ]
}